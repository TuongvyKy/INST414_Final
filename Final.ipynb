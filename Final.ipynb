{
 "cells": [
  {
   "cell_type": "markdown",
   "id": "7765efc4",
   "metadata": {},
   "source": [
    "#### SVC Model"
   ]
  },
  {
   "cell_type": "code",
   "execution_count": 62,
   "id": "d0c0770c",
   "metadata": {},
   "outputs": [
    {
     "name": "stdout",
     "output_type": "stream",
     "text": [
      "Accuracy: 99.87%\n",
      "Classification Report:\n",
      "              precision    recall  f1-score   support\n",
      "\n",
      "           0       1.00      1.00      1.00       744\n",
      "           1       0.75      1.00      0.86         3\n",
      "\n",
      "    accuracy                           1.00       747\n",
      "   macro avg       0.88      1.00      0.93       747\n",
      "weighted avg       1.00      1.00      1.00       747\n",
      "\n"
     ]
    }
   ],
   "source": [
    "import pandas as pd\n",
    "from sklearn.model_selection import train_test_split\n",
    "from sklearn.feature_extraction.text import TfidfVectorizer\n",
    "from sklearn.svm import SVC\n",
    "from sklearn.pipeline import make_pipeline\n",
    "from sklearn.compose import ColumnTransformer\n",
    "from sklearn.metrics import classification_report, accuracy_score\n",
    "\n",
    "# Load the data\n",
    "netflix_df = pd.read_csv('titles.csv')\n",
    "netflix_movies_df = netflix_df[netflix_df['type'] == 'MOVIE'].copy()\n",
    "christmas_df = pd.read_csv('christmas_movies.csv')\n",
    "\n",
    "# Get the list of Christmas movie titles\n",
    "christmas_movie_titles = christmas_df['title'].tolist()\n",
    "\n",
    "# Add a column to indicate if the movie is a Christmas movie\n",
    "netflix_movies_df['is_christmas'] = netflix_movies_df['title'].apply(\n",
    "    lambda x: 1 if x in christmas_movie_titles else 0)\n",
    "\n",
    "# Drop rows with missing values in 'title' or 'description'\n",
    "netflix_movies_df = netflix_movies_df.dropna(subset=['description', 'title'])\n",
    "\n",
    "# Use TF-IDF to transform both 'title' and 'description' into numerical features\n",
    "text_transformer = TfidfVectorizer(stop_words='english')\n",
    "\n",
    "# Prepare the features (X) and target (y)\n",
    "X = netflix_movies_df[['title', 'description']]\n",
    "y = netflix_movies_df['is_christmas']\n",
    "\n",
    "# Split the data into training and testing sets\n",
    "X_train, X_test, y_train, y_test = train_test_split(X, y, test_size=0.2, random_state=42)\n",
    "\n",
    "# Build the model pipeline\n",
    "model = make_pipeline(\n",
    "    ColumnTransformer(\n",
    "        transformers=[\n",
    "            ('title', text_transformer, 'title'),  # Apply TF-IDF on the title column\n",
    "            ('description', text_transformer, 'description')  # Apply TF-IDF on the description column\n",
    "        ]\n",
    "    ),\n",
    "    SVC(kernel='linear', random_state=42) )\n",
    "\n",
    "# Train the model\n",
    "model.fit(X_train, y_train)\n",
    "\n",
    "# Make predictions and evaluate the model\n",
    "y_pred = model.predict(X_test)\n",
    "\n",
    "# Evaluate model performance\n",
    "accuracy = accuracy_score(y_test, y_pred)\n",
    "print(f'Accuracy: {accuracy * 100:.2f}%')\n",
    "\n",
    "# Classification report for precision, recall, f1-score, and support\n",
    "print('Classification Report:')\n",
    "print(classification_report(y_test, y_pred))\n"
   ]
  },
  {
   "cell_type": "markdown",
   "id": "7c355d4f",
   "metadata": {},
   "source": [
    "#### Random Forest Model"
   ]
  },
  {
   "cell_type": "code",
   "execution_count": 63,
   "id": "5d7c8da8",
   "metadata": {},
   "outputs": [
    {
     "name": "stdout",
     "output_type": "stream",
     "text": [
      "Random Forest Accuracy: 99.60%\n",
      "Random Forest Classification Report:\n",
      "              precision    recall  f1-score   support\n",
      "\n",
      "           0       1.00      1.00      1.00       744\n",
      "           1       0.00      0.00      0.00         3\n",
      "\n",
      "    accuracy                           1.00       747\n",
      "   macro avg       0.50      0.50      0.50       747\n",
      "weighted avg       0.99      1.00      0.99       747\n",
      "\n"
     ]
    },
    {
     "name": "stderr",
     "output_type": "stream",
     "text": [
      "c:\\Users\\tuong\\AppData\\Local\\Programs\\Python\\Python312\\Lib\\site-packages\\sklearn\\metrics\\_classification.py:1531: UndefinedMetricWarning: Precision is ill-defined and being set to 0.0 in labels with no predicted samples. Use `zero_division` parameter to control this behavior.\n",
      "  _warn_prf(average, modifier, f\"{metric.capitalize()} is\", len(result))\n",
      "c:\\Users\\tuong\\AppData\\Local\\Programs\\Python\\Python312\\Lib\\site-packages\\sklearn\\metrics\\_classification.py:1531: UndefinedMetricWarning: Precision is ill-defined and being set to 0.0 in labels with no predicted samples. Use `zero_division` parameter to control this behavior.\n",
      "  _warn_prf(average, modifier, f\"{metric.capitalize()} is\", len(result))\n",
      "c:\\Users\\tuong\\AppData\\Local\\Programs\\Python\\Python312\\Lib\\site-packages\\sklearn\\metrics\\_classification.py:1531: UndefinedMetricWarning: Precision is ill-defined and being set to 0.0 in labels with no predicted samples. Use `zero_division` parameter to control this behavior.\n",
      "  _warn_prf(average, modifier, f\"{metric.capitalize()} is\", len(result))\n"
     ]
    }
   ],
   "source": [
    "import pandas as pd\n",
    "from sklearn.model_selection import train_test_split\n",
    "from sklearn.feature_extraction.text import TfidfVectorizer\n",
    "from sklearn.ensemble import RandomForestClassifier\n",
    "from sklearn.pipeline import make_pipeline\n",
    "from sklearn.compose import ColumnTransformer\n",
    "from sklearn.metrics import classification_report, accuracy_score\n",
    "\n",
    "# Load the data\n",
    "netflix_df = pd.read_csv('titles.csv')\n",
    "netflix_movies_df = netflix_df[netflix_df['type'] == 'MOVIE'].copy()\n",
    "christmas_df = pd.read_csv('christmas_movies.csv')\n",
    "\n",
    "# Get the list of Christmas movie titles\n",
    "christmas_movie_titles = christmas_df['title'].tolist()\n",
    "\n",
    "# Add a column to indicate if the movie is a Christmas movie\n",
    "netflix_movies_df['is_christmas'] = netflix_movies_df['title'].apply(\n",
    "    lambda x: 1 if x in christmas_movie_titles else 0\n",
    ")\n",
    "\n",
    "# Drop rows with missing values in 'title' or 'description'\n",
    "netflix_movies_df = netflix_movies_df.dropna(subset=['description', 'title'])\n",
    "\n",
    "# Feature Engineering (Title and Description using TF-IDF)\n",
    "text_transformer = TfidfVectorizer(stop_words='english')\n",
    "\n",
    "# Prepare the features (X) and target (y)\n",
    "X = netflix_movies_df[['title', 'description']]  # Using only title and description as features\n",
    "y = netflix_movies_df['is_christmas']\n",
    "\n",
    "# Step 2: Split the data into training and testing sets\n",
    "X_train, X_test, y_train, y_test = train_test_split(X, y, test_size=0.2, random_state=42)\n",
    "\n",
    "# Step 3: Build the Random Forest model pipeline\n",
    "model_rf = make_pipeline(\n",
    "    ColumnTransformer(\n",
    "        transformers=[ \n",
    "            ('title', text_transformer, 'title'),  # Apply TF-IDF on the title column\n",
    "            ('description', text_transformer, 'description')  # Apply TF-IDF on the description column\n",
    "        ]\n",
    "    ),\n",
    "    RandomForestClassifier(n_estimators=100, class_weight='balanced', random_state=42)  # Random Forest with balanced class weights\n",
    ")\n",
    "\n",
    "# Step 4: Train the model\n",
    "model_rf.fit(X_train, y_train)\n",
    "\n",
    "# Step 5: Make predictions and evaluate the model\n",
    "y_pred_rf = model_rf.predict(X_test)\n",
    "\n",
    "# Evaluate model performance\n",
    "accuracy_rf = accuracy_score(y_test, y_pred_rf)\n",
    "print(f'Random Forest Accuracy: {accuracy_rf * 100:.2f}%')\n",
    "\n",
    "# Classification report for precision, recall, f1-score, and support\n",
    "print('Random Forest Classification Report:')\n",
    "print(classification_report(y_test, y_pred_rf))\n"
   ]
  }
 ],
 "metadata": {
  "kernelspec": {
   "display_name": "Python 3",
   "language": "python",
   "name": "python3"
  },
  "language_info": {
   "codemirror_mode": {
    "name": "ipython",
    "version": 3
   },
   "file_extension": ".py",
   "mimetype": "text/x-python",
   "name": "python",
   "nbconvert_exporter": "python",
   "pygments_lexer": "ipython3",
   "version": "3.12.1"
  }
 },
 "nbformat": 4,
 "nbformat_minor": 5
}
